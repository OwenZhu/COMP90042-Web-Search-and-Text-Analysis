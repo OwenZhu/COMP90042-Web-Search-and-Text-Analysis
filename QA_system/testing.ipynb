{
 "cells": [
  {
   "cell_type": "markdown",
   "metadata": {},
   "source": [
    "## Import packages"
   ]
  },
  {
   "cell_type": "code",
   "execution_count": null,
   "metadata": {},
   "outputs": [],
   "source": [
    "import models\n",
    "from tensorflow import keras\n",
    "import tensorflow as tf\n",
    "import numpy as np\n",
    "import json\n",
    "import config\n",
    "import pickle\n",
    "import helper\n",
    "from tqdm import tqdm\n",
    "from sklearn.feature_extraction.text import TfidfVectorizer"
   ]
  },
  {
   "cell_type": "markdown",
   "metadata": {},
   "source": [
    "## Load dataset and RNN model"
   ]
  },
  {
   "cell_type": "code",
   "execution_count": null,
   "metadata": {},
   "outputs": [],
   "source": [
    "with open(config.DATA_PATH + \"testing.json\", \"rb\") as f:\n",
    "    testing_data = json.load(f)\n",
    "\n",
    "with open(config.DATA_PATH + \"vocabulary.pickle\", \"rb\") as f:\n",
    "    voc = pickle.load(f)\n",
    "\n",
    "with open(config.DATA_PATH + \"documents.json\", \"rb\") as f:\n",
    "    docs = json.load(f)"
   ]
  },
  {
   "cell_type": "code",
   "execution_count": null,
   "metadata": {},
   "outputs": [],
   "source": [
    "print(testing_data[0])"
   ]
  },
  {
   "cell_type": "code",
   "execution_count": null,
   "metadata": {},
   "outputs": [],
   "source": [
    "context = dict()\n",
    "for t in tqdm(testing_data):\n",
    "    \n",
    "    question_text = t['question']\n",
    "    docid = t['docid']\n",
    "    \n",
    "    for d in docs:\n",
    "        if d['docid'] == docid:\n",
    "            \n",
    "            tfidf_vectorizer = TfidfVectorizer(stop_words='english', lowercase=True, min_df=0)\n",
    "            d_tfidf = tfidf_vectorizer.fit_transform(d['text']).toarray()\n",
    "            q_tfidf = tfidf_vectorizer.transform([question_text]).toarray()\n",
    "            \n",
    "            para_tfidf_sim = np.dot(d_tfidf, q_tfidf.T).flatten()\n",
    "            matched_para_id = np.argmax(para_tfidf_sim)\n",
    "\n",
    "            context[t['id']] = d['text'][matched_para_id]\n",
    "            break"
   ]
  },
  {
   "cell_type": "code",
   "execution_count": null,
   "metadata": {},
   "outputs": [],
   "source": [
    "emb_mat = np.load(config.DATA_PATH + \"word_embedding_matrix.npy\")\n",
    "\n",
    "rm = models.RnnModel(emb_mat)"
   ]
  },
  {
   "cell_type": "markdown",
   "metadata": {},
   "source": [
    "## Define tool functions"
   ]
  },
  {
   "cell_type": "code",
   "execution_count": null,
   "metadata": {},
   "outputs": [],
   "source": [
    "def f1_score(p,t):\n",
    "    p_tokens=nltk.word_tokenize(p.lower())\n",
    "    t_tokens=nltk.word_tokenize(t.lower())\n",
    "    common=Counter(p_tokens) & Counter(t_tokens)\n",
    "    num_same=sum(common.values())\n",
    "    if num_same==0:return 0\n",
    "    precision=1.0*num_same / len(p_tokens)\n",
    "    recall=1.0*num_same/len(t_tokens)\n",
    "    f1=(2*precision*recall)/(precision+recall)\n",
    "    return f1\n",
    "\n",
    "\n",
    "def generate_batch(batch_sample, context, voc):\n",
    "    \n",
    "    batch_q, batch_c = [], []\n",
    "    \n",
    "    for q in batch_sample:\n",
    "        batch_q.append(helper.text_to_index(q['question'], voc))\n",
    "        batch_c.append(helper.text_to_index(context[q['id']], voc))\n",
    "        \n",
    "    batch_q = keras.preprocessing.sequence.pad_sequences(batch_q,\n",
    "                                                         value=voc[\n",
    "                                                             \"<PAD>\"],\n",
    "                                                         padding='post')\n",
    "\n",
    "    batch_c = keras.preprocessing.sequence.pad_sequences(batch_c,\n",
    "                                                         value=voc[\n",
    "                                                             \"<PAD>\"],\n",
    "                                                         padding='post')\n",
    "\n",
    "    return batch_q, batch_c"
   ]
  },
  {
   "cell_type": "markdown",
   "metadata": {},
   "source": [
    "## Get predictions"
   ]
  },
  {
   "cell_type": "code",
   "execution_count": null,
   "metadata": {
    "scrolled": true
   },
   "outputs": [],
   "source": [
    "test_ans = []\n",
    "\n",
    "with tf.Session() as sess:\n",
    "    saver = tf.train.Saver()\n",
    "    saver.restore(sess, \"model/rnn\")\n",
    "    \n",
    "    batch_i = 0\n",
    "\n",
    "    pbar = tqdm(total = len(testing_data) + 1)\n",
    "    while batch_i < len(testing_data):\n",
    "        \n",
    "        start = batch_i\n",
    "        end = batch_i + config.BATCH_SIZE\n",
    "\n",
    "        batch_data = testing_data[start: end]\n",
    "        batch_q, batch_c = generate_batch(batch_data, context, voc)\n",
    "\n",
    "        pred_s, pred_e = sess.run([rm.output_layer_1, rm.output_layer_2], feed_dict={rm.context_input: batch_c,\n",
    "                                                                                     rm.question_input: batch_q,\n",
    "                                                                                     rm.dropout_keep_prob: 1\n",
    "                                                                                     })\n",
    "\n",
    "        for i in range(batch_c.shape[0]):\n",
    "            \n",
    "            answer_dict = dict()\n",
    "            answer_dict[\"id\"] = index\n",
    "            \n",
    "            text = keras.preprocessing.text.text_to_word_sequence(context[i + start])\n",
    "            answer_dict[\"text\"] = \" \".join(text[pred_s[i]: pred_e[i] + 1])\n",
    "            test_ans.append(answer_dict)\n",
    "        \n",
    "        batch_i += config.BATCH_SIZE\n",
    "        pbar.update(config.BATCH_SIZE)"
   ]
  },
  {
   "cell_type": "markdown",
   "metadata": {},
   "source": [
    "## Write to csv file"
   ]
  },
  {
   "cell_type": "code",
   "execution_count": null,
   "metadata": {},
   "outputs": [],
   "source": [
    "import pandas as pd\n",
    "\n",
    "df = pd.DataFrame(test_ans)\n",
    "display(df)\n",
    "\n",
    "df['id'] = df.index\n",
    "\n",
    "df = df.drop(['id'],axis=1)\n",
    "\n",
    "df.to_csv(\"dataset/test.csv\")"
   ]
  }
 ],
 "metadata": {
  "kernelspec": {
   "display_name": "Python 3",
   "language": "python",
   "name": "python3"
  },
  "language_info": {
   "codemirror_mode": {
    "name": "ipython",
    "version": 3
   },
   "file_extension": ".py",
   "mimetype": "text/x-python",
   "name": "python",
   "nbconvert_exporter": "python",
   "pygments_lexer": "ipython3",
   "version": "3.6.5"
  }
 },
 "nbformat": 4,
 "nbformat_minor": 2
}
