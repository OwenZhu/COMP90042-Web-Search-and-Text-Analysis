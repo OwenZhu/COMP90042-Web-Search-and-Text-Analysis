{
 "cells": [
  {
   "cell_type": "markdown",
   "metadata": {},
   "source": [
    "## Import packages"
   ]
  },
  {
   "cell_type": "code",
   "execution_count": 4,
   "metadata": {},
   "outputs": [
    {
     "name": "stderr",
     "output_type": "stream",
     "text": [
      "/home/ubuntu/mnt/anaconda3/lib/python3.6/site-packages/h5py/__init__.py:36: FutureWarning: Conversion of the second argument of issubdtype from `float` to `np.floating` is deprecated. In future, it will be treated as `np.float64 == np.dtype(float).type`.\n",
      "  from ._conv import register_converters as _register_converters\n"
     ]
    }
   ],
   "source": [
    "import numpy as np\n",
    "import json\n",
    "import pickle\n",
    "import nltk\n",
    "from tqdm import tqdm, tqdm_notebook\n",
    "from tensorflow import keras"
   ]
  },
  {
   "cell_type": "markdown",
   "metadata": {},
   "source": [
    "## Load GloVe pre-trained word vectors "
   ]
  },
  {
   "cell_type": "code",
   "execution_count": 5,
   "metadata": {},
   "outputs": [],
   "source": [
    "def load_GloVe(filename, d_size=300):\n",
    "    \n",
    "    # get common word set from imdb dataset\n",
    "    imdb = keras.datasets.imdb\n",
    "    common_word_set = set(imdb.get_word_index().keys())\n",
    "    \n",
    "    num_lines = len(common_word_set) + 2\n",
    "    print('Length of vocabulary: {}'.format(num_lines))\n",
    "    \n",
    "    vocab = dict()\n",
    "    vocab[\"<PAD>\"] = 0\n",
    "    vocab[\"--OOV--\"] = 1 # unknown\n",
    "    \n",
    "    emb_mat = np.zeros((num_lines + 2, d_size))\n",
    "    emb_mat[vocab[\"--OOV--\"], :] = np.random.uniform(size=d_size)\n",
    "    \n",
    "    print(\"Start Loading...\")\n",
    "    pbar = tqdm_notebook(total=num_lines)\n",
    "    with open(filename, 'r', encoding=\"utf-8\") as f:\n",
    "        word_counter = 0\n",
    "        for line in f:\n",
    "            row = line.strip().split(' ')\n",
    "\n",
    "            if not row[0] in common_word_set:\n",
    "                continue\n",
    "                \n",
    "            try:\n",
    "                emb_mat[word_counter, :] = np.asarray(row[1:])\n",
    "                vocab[row[0]] = word_counter + 2\n",
    "                word_counter += 1\n",
    "            \n",
    "            except Exception as e:\n",
    "                print(e)\n",
    "                print(\"Missing\", row[0])\n",
    "                break\n",
    "            \n",
    "            pbar.update(1)\n",
    "    \n",
    "    \n",
    "    pbar.close()\n",
    "\n",
    "    print(\"Loading finished...\")\n",
    "    return vocab, emb_mat"
   ]
  },
  {
   "cell_type": "code",
   "execution_count": 6,
   "metadata": {},
   "outputs": [],
   "source": [
    "DATA_PATH = 'dataset/'"
   ]
  },
  {
   "cell_type": "code",
   "execution_count": 36,
   "metadata": {},
   "outputs": [
    {
     "name": "stdout",
     "output_type": "stream",
     "text": [
      "Length of vocabulary: 88586\n",
      "Start Loading...\n"
     ]
    },
    {
     "data": {
      "application/vnd.jupyter.widget-view+json": {
       "model_id": "37bd72d3deb44907b1e0e9487f78e194",
       "version_major": 2,
       "version_minor": 0
      },
      "text/plain": [
       "HBox(children=(IntProgress(value=0, max=88586), HTML(value='')))"
      ]
     },
     "metadata": {},
     "output_type": "display_data"
    },
    {
     "name": "stdout",
     "output_type": "stream",
     "text": [
      "Loading finished...\n"
     ]
    }
   ],
   "source": [
    "glove_file = DATA_PATH + 'glove.840B.300d.txt'\n",
    "vocab, embd = load_GloVe(glove_file)"
   ]
  },
  {
   "cell_type": "code",
   "execution_count": 37,
   "metadata": {},
   "outputs": [],
   "source": [
    "np.save(DATA_PATH + \"word_embedding_matrix\", embd)\n",
    "with open(DATA_PATH + 'vocabulary.pickle', 'wb') as handle:\n",
    "    pickle.dump(vocab, handle, protocol=pickle.HIGHEST_PROTOCOL)"
   ]
  },
  {
   "cell_type": "code",
   "execution_count": 38,
   "metadata": {},
   "outputs": [
    {
     "name": "stdout",
     "output_type": "stream",
     "text": [
      "Length of vocabulary: 88586\n",
      "Start Loading...\n"
     ]
    },
    {
     "data": {
      "application/vnd.jupyter.widget-view+json": {
       "model_id": "df08019d25e4424393a6454e288c3dca",
       "version_major": 2,
       "version_minor": 0
      },
      "text/plain": [
       "HBox(children=(IntProgress(value=0, max=88586), HTML(value='')))"
      ]
     },
     "metadata": {},
     "output_type": "display_data"
    },
    {
     "name": "stdout",
     "output_type": "stream",
     "text": [
      "Loading finished...\n"
     ]
    }
   ],
   "source": [
    "glove_char_file = DATA_PATH + 'glove.840B.300d-char.txt'\n",
    "char_vocab, char_embd = load_GloVe(glove_char_file)"
   ]
  },
  {
   "cell_type": "code",
   "execution_count": 39,
   "metadata": {},
   "outputs": [],
   "source": [
    "np.save(DATA_PATH + \"char_embedding_matrix\", char_embd)\n",
    "with open(DATA_PATH + 'char_vocabulary.pickle', 'wb') as handle:\n",
    "    pickle.dump(char_vocab, handle, protocol=pickle.HIGHEST_PROTOCOL)"
   ]
  },
  {
   "cell_type": "markdown",
   "metadata": {},
   "source": [
    "## Preprocess training data"
   ]
  },
  {
   "cell_type": "markdown",
   "metadata": {},
   "source": [
    "### Load SQuAD 2.0 training & developing set"
   ]
  },
  {
   "cell_type": "code",
   "execution_count": 7,
   "metadata": {},
   "outputs": [],
   "source": [
    "def get_clean_dataset(dataset):\n",
    "    \n",
    "    contexts = dict()\n",
    "    questions = []\n",
    "    context_counter = 0\n",
    "    question_counter = 0\n",
    "    \n",
    "    for article in tqdm_notebook(dataset):\n",
    "        for para in article[\"paragraphs\"]:\n",
    "            \n",
    "            contexts[context_counter] = para[\"context\"]\n",
    "            \n",
    "            for q in para[\"qas\"]:\n",
    "                questions.append({\"question_id\": question_counter,\n",
    "                                  \"context_id\": context_counter,\n",
    "                                  \"question\": q[\"question\"],\n",
    "                                  \"answers\": [{'text': ans[\"text\"], 'answer_start': ans[\"answer_start\"]} \n",
    "                                                 for ans in q[\"answers\"]],\n",
    "                                  \"is_impossible\": q[\"is_impossible\"],\n",
    "                                  })\n",
    "                question_counter += 1\n",
    "\n",
    "            context_counter += 1\n",
    "\n",
    "    return contexts, questions"
   ]
  },
  {
   "cell_type": "code",
   "execution_count": 8,
   "metadata": {},
   "outputs": [],
   "source": [
    "file_name = DATA_PATH + \"train-v2.0.json\"\n",
    "with open(file_name) as json_data:\n",
    "    training_set = json.load(json_data)\n",
    "    training_set = training_set['data']"
   ]
  },
  {
   "cell_type": "code",
   "execution_count": 9,
   "metadata": {
    "scrolled": true
   },
   "outputs": [
    {
     "data": {
      "application/vnd.jupyter.widget-view+json": {
       "model_id": "000c6941d0f54efe83657e0af0c6d814",
       "version_major": 2,
       "version_minor": 0
      },
      "text/plain": [
       "HBox(children=(IntProgress(value=0, max=442), HTML(value='')))"
      ]
     },
     "metadata": {},
     "output_type": "display_data"
    },
    {
     "name": "stdout",
     "output_type": "stream",
     "text": [
      "\n"
     ]
    }
   ],
   "source": [
    "train_c, train_q = get_clean_dataset(training_set)"
   ]
  },
  {
   "cell_type": "code",
   "execution_count": 48,
   "metadata": {},
   "outputs": [],
   "source": [
    "with open(DATA_PATH + 'trainset_context.pickle', 'wb') as handle:\n",
    "    pickle.dump(train_c, handle, protocol=pickle.HIGHEST_PROTOCOL)\n",
    "    \n",
    "with open(DATA_PATH + 'trainset_question.pickle', 'wb') as handle:\n",
    "    pickle.dump(train_q, handle, protocol=pickle.HIGHEST_PROTOCOL)"
   ]
  },
  {
   "cell_type": "code",
   "execution_count": 49,
   "metadata": {},
   "outputs": [],
   "source": [
    "file_name = DATA_PATH + \"dev-v2.0.json\"\n",
    "with open(file_name) as json_data:\n",
    "    dev_set = json.load(json_data)\n",
    "    dev_set = dev_set['data']"
   ]
  },
  {
   "cell_type": "code",
   "execution_count": 50,
   "metadata": {
    "scrolled": true
   },
   "outputs": [
    {
     "data": {
      "application/vnd.jupyter.widget-view+json": {
       "model_id": "c93742c6c76b4e4d966b3fbc07dbd811",
       "version_major": 2,
       "version_minor": 0
      },
      "text/plain": [
       "HBox(children=(IntProgress(value=0, max=35), HTML(value='')))"
      ]
     },
     "metadata": {},
     "output_type": "display_data"
    }
   ],
   "source": [
    "dev_c, dev_q = get_clean_dataset(dev_set)"
   ]
  },
  {
   "cell_type": "code",
   "execution_count": 51,
   "metadata": {},
   "outputs": [],
   "source": [
    "with open(DATA_PATH + 'devset_context.pickle', 'wb') as handle:\n",
    "    pickle.dump(dev_c, handle, protocol=pickle.HIGHEST_PROTOCOL)\n",
    "    \n",
    "with open(DATA_PATH + 'devset_question.pickle', 'wb') as handle:\n",
    "    pickle.dump(dev_q, handle, protocol=pickle.HIGHEST_PROTOCOL)"
   ]
  }
 ],
 "metadata": {
  "kernelspec": {
   "display_name": "Python 3",
   "language": "python",
   "name": "python3"
  },
  "language_info": {
   "codemirror_mode": {
    "name": "ipython",
    "version": 3
   },
   "file_extension": ".py",
   "mimetype": "text/x-python",
   "name": "python",
   "nbconvert_exporter": "python",
   "pygments_lexer": "ipython3",
   "version": "3.6.5"
  }
 },
 "nbformat": 4,
 "nbformat_minor": 2
}
