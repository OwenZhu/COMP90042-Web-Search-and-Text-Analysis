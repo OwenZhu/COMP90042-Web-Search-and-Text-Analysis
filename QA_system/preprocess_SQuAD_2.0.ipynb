{
 "cells": [
  {
   "cell_type": "markdown",
   "metadata": {},
   "source": [
    "## Import packages"
   ]
  },
  {
   "cell_type": "code",
   "execution_count": 7,
   "metadata": {},
   "outputs": [],
   "source": [
    "import numpy as np\n",
    "import json\n",
    "import pickle\n",
    "import nltk\n",
    "from tqdm import tqdm, tqdm_notebook\n",
    "import spacy\n",
    "\n",
    "nlp = spacy.blank(\"en\")"
   ]
  },
  {
   "cell_type": "markdown",
   "metadata": {},
   "source": [
    "## Load GloVe pre-trained word vectors "
   ]
  },
  {
   "cell_type": "code",
   "execution_count": 8,
   "metadata": {},
   "outputs": [],
   "source": [
    "def file_len(fname):\n",
    "    with open(fname, 'r', encoding=\"utf-8\") as f:\n",
    "        for i, l in enumerate(f):\n",
    "            pass\n",
    "    return i + 1\n",
    "\n",
    "def load_GloVe(filename, d_size=300):\n",
    "    num_lines = file_len(filename)\n",
    "    vocab = dict()\n",
    "    emb_mat = np.zeros((num_lines + 1, d_size))\n",
    "\n",
    "    print(\"Start Loading...\")\n",
    "    pbar = tqdm_notebook(total=num_lines)\n",
    "    \n",
    "    with open(filename, 'r', encoding=\"utf-8\") as f:\n",
    "        \n",
    "        emb_mat[-1, :] = np.random.uniform(size=d_size)\n",
    "        vocab[\"--OOV--\"] = num_lines\n",
    "        \n",
    "        for index, line in enumerate(f):\n",
    "            row = line.strip().split(' ')\n",
    "\n",
    "            try:\n",
    "                emb_mat[index, :] = np.asarray(row[1:])\n",
    "                vocab[row[0]] = index\n",
    "            except:\n",
    "                print(\"Missing\", row[0])\n",
    "                continue\n",
    "        \n",
    "            pbar.update(1)\n",
    "    \n",
    "    \n",
    "    pbar.close()\n",
    "\n",
    "    print(\"Loading finished...\")\n",
    "    return vocab, emb_mat"
   ]
  },
  {
   "cell_type": "code",
   "execution_count": 9,
   "metadata": {},
   "outputs": [],
   "source": [
    "DATA_PATH = 'dataset/'"
   ]
  },
  {
   "cell_type": "code",
   "execution_count": 10,
   "metadata": {},
   "outputs": [
    {
     "name": "stdout",
     "output_type": "stream",
     "text": [
      "Start Loading...\n"
     ]
    },
    {
     "data": {
      "application/vnd.jupyter.widget-view+json": {
       "model_id": "65232ab80d244fa399029209b57b0c10",
       "version_major": 2,
       "version_minor": 0
      },
      "text/html": [
       "<p>Failed to display Jupyter Widget of type <code>HBox</code>.</p>\n",
       "<p>\n",
       "  If you're reading this message in the Jupyter Notebook or JupyterLab Notebook, it may mean\n",
       "  that the widgets JavaScript is still loading. If this message persists, it\n",
       "  likely means that the widgets JavaScript library is either not installed or\n",
       "  not enabled. See the <a href=\"https://ipywidgets.readthedocs.io/en/stable/user_install.html\">Jupyter\n",
       "  Widgets Documentation</a> for setup instructions.\n",
       "</p>\n",
       "<p>\n",
       "  If you're reading this message in another frontend (for example, a static\n",
       "  rendering on GitHub or <a href=\"https://nbviewer.jupyter.org/\">NBViewer</a>),\n",
       "  it may mean that your frontend doesn't currently support widgets.\n",
       "</p>\n"
      ],
      "text/plain": [
       "HBox(children=(IntProgress(value=0, max=2196017), HTML(value='')))"
      ]
     },
     "metadata": {},
     "output_type": "display_data"
    },
    {
     "name": "stdout",
     "output_type": "stream",
     "text": [
      "Missing 0.20785\n",
      "Missing 0.39511\n",
      "Missing 0.13211\n",
      "Missing -0.38024\n",
      "Missing -0.0033421\n",
      "Missing 0.14608\n",
      "Missing -0.36288\n",
      "Missing 0.5478\n",
      "Missing 0.59759\n",
      "\n",
      "Loading finished...\n"
     ]
    }
   ],
   "source": [
    "glove_file = DATA_PATH + 'glove.840B.300d.txt'\n",
    "vocab, embd = load_GloVe(glove_file)"
   ]
  },
  {
   "cell_type": "code",
   "execution_count": 11,
   "metadata": {},
   "outputs": [],
   "source": [
    "np.save(DATA_PATH + \"word_embedding_matrix\", embd)\n",
    "with open(DATA_PATH + 'vocabulary.pickle', 'wb') as handle:\n",
    "    pickle.dump(vocab, handle, protocol=pickle.HIGHEST_PROTOCOL)"
   ]
  },
  {
   "cell_type": "code",
   "execution_count": 12,
   "metadata": {},
   "outputs": [
    {
     "name": "stdout",
     "output_type": "stream",
     "text": [
      "Start Loading...\n"
     ]
    },
    {
     "data": {
      "application/vnd.jupyter.widget-view+json": {
       "model_id": "d1c0f24b28a64caa9391b0abb4ebcad8",
       "version_major": 2,
       "version_minor": 0
      },
      "text/html": [
       "<p>Failed to display Jupyter Widget of type <code>HBox</code>.</p>\n",
       "<p>\n",
       "  If you're reading this message in the Jupyter Notebook or JupyterLab Notebook, it may mean\n",
       "  that the widgets JavaScript is still loading. If this message persists, it\n",
       "  likely means that the widgets JavaScript library is either not installed or\n",
       "  not enabled. See the <a href=\"https://ipywidgets.readthedocs.io/en/stable/user_install.html\">Jupyter\n",
       "  Widgets Documentation</a> for setup instructions.\n",
       "</p>\n",
       "<p>\n",
       "  If you're reading this message in another frontend (for example, a static\n",
       "  rendering on GitHub or <a href=\"https://nbviewer.jupyter.org/\">NBViewer</a>),\n",
       "  it may mean that your frontend doesn't currently support widgets.\n",
       "</p>\n"
      ],
      "text/plain": [
       "HBox(children=(IntProgress(value=0, max=94), HTML(value='')))"
      ]
     },
     "metadata": {},
     "output_type": "display_data"
    },
    {
     "name": "stdout",
     "output_type": "stream",
     "text": [
      "\n",
      "Loading finished...\n"
     ]
    }
   ],
   "source": [
    "glove_char_file = DATA_PATH + 'glove.840B.300d-char.txt'\n",
    "char_vocab, char_embd = load_GloVe(glove_char_file)"
   ]
  },
  {
   "cell_type": "code",
   "execution_count": 13,
   "metadata": {},
   "outputs": [],
   "source": [
    "np.save(DATA_PATH + \"char_embedding_matrix\", char_embd)\n",
    "with open(DATA_PATH + 'char_vocabulary.pickle', 'wb') as handle:\n",
    "    pickle.dump(char_vocab, handle, protocol=pickle.HIGHEST_PROTOCOL)"
   ]
  },
  {
   "cell_type": "markdown",
   "metadata": {},
   "source": [
    "## Preprocess training data"
   ]
  },
  {
   "cell_type": "markdown",
   "metadata": {},
   "source": [
    "### Load SQuAD 2.0 training & developing set"
   ]
  },
  {
   "cell_type": "code",
   "execution_count": 16,
   "metadata": {},
   "outputs": [],
   "source": [
    "def word_tokenize(sent):\n",
    "    doc = nlp(sent)\n",
    "    return [token.text for token in doc]\n",
    "\n",
    "def get_cleaned_dataset(dataset):\n",
    "    \n",
    "    contexts = dict()\n",
    "    questions = dict()\n",
    "    context_counter = 0\n",
    "    question_counter = 0\n",
    "    \n",
    "    for article in tqdm_notebook(dataset):\n",
    "        for para in article[\"paragraphs\"]:\n",
    "            \n",
    "            contexts[context_counter] = word_tokenize(para[\"context\"])\n",
    "            \n",
    "            for q in para[\"qas\"]:\n",
    "                questions[question_counter] = {\n",
    "                                                \"context_id\": context_counter,\n",
    "                                                \"question\": word_tokenize(q[\"question\"]),\n",
    "                                                \"answers\": [{'text': word_tokenize(ans[\"text\"]),\n",
    "                                                             'answer_start': ans[\"answer_start\"]} \n",
    "                                                            for ans in q[\"answers\"]],\n",
    "                                                \"is_impossible\": q[\"is_impossible\"],\n",
    "                                                }\n",
    "                question_counter += 1\n",
    "\n",
    "            context_counter += 1\n",
    "\n",
    "    return contexts, questions"
   ]
  },
  {
   "cell_type": "code",
   "execution_count": 3,
   "metadata": {},
   "outputs": [],
   "source": [
    "file_name = DATA_PATH + \"train-v2.0.json\"\n",
    "with open(file_name) as json_data:\n",
    "    training_set = json.load(json_data)\n",
    "    training_set = training_set['data']"
   ]
  },
  {
   "cell_type": "code",
   "execution_count": 17,
   "metadata": {},
   "outputs": [
    {
     "data": {
      "application/vnd.jupyter.widget-view+json": {
       "model_id": "fd27bce17cc44b5a9c9213864cb982a1",
       "version_major": 2,
       "version_minor": 0
      },
      "text/html": [
       "<p>Failed to display Jupyter Widget of type <code>HBox</code>.</p>\n",
       "<p>\n",
       "  If you're reading this message in the Jupyter Notebook or JupyterLab Notebook, it may mean\n",
       "  that the widgets JavaScript is still loading. If this message persists, it\n",
       "  likely means that the widgets JavaScript library is either not installed or\n",
       "  not enabled. See the <a href=\"https://ipywidgets.readthedocs.io/en/stable/user_install.html\">Jupyter\n",
       "  Widgets Documentation</a> for setup instructions.\n",
       "</p>\n",
       "<p>\n",
       "  If you're reading this message in another frontend (for example, a static\n",
       "  rendering on GitHub or <a href=\"https://nbviewer.jupyter.org/\">NBViewer</a>),\n",
       "  it may mean that your frontend doesn't currently support widgets.\n",
       "</p>\n"
      ],
      "text/plain": [
       "HBox(children=(IntProgress(value=0, max=442), HTML(value='')))"
      ]
     },
     "metadata": {},
     "output_type": "display_data"
    }
   ],
   "source": [
    "train_c, train_q = get_cleaned_dataset(training_set)"
   ]
  },
  {
   "cell_type": "code",
   "execution_count": 18,
   "metadata": {},
   "outputs": [],
   "source": [
    "with open(DATA_PATH + 'trainset_context.pickle', 'wb') as handle:\n",
    "    pickle.dump(train_c, handle, protocol=pickle.HIGHEST_PROTOCOL)\n",
    "    \n",
    "with open(DATA_PATH + 'trainset_question.pickle', 'wb') as handle:\n",
    "    pickle.dump(train_q, handle, protocol=pickle.HIGHEST_PROTOCOL)"
   ]
  },
  {
   "cell_type": "code",
   "execution_count": 21,
   "metadata": {},
   "outputs": [],
   "source": [
    "file_name = DATA_PATH + \"dev-v2.0.json\"\n",
    "with open(file_name) as json_data:\n",
    "    dev_set = json.load(json_data)\n",
    "    dev_set = dev_set['data']"
   ]
  },
  {
   "cell_type": "code",
   "execution_count": 22,
   "metadata": {
    "scrolled": true
   },
   "outputs": [
    {
     "data": {
      "application/vnd.jupyter.widget-view+json": {
       "model_id": "c17573211b874228a18e977f16e02e70",
       "version_major": 2,
       "version_minor": 0
      },
      "text/html": [
       "<p>Failed to display Jupyter Widget of type <code>HBox</code>.</p>\n",
       "<p>\n",
       "  If you're reading this message in the Jupyter Notebook or JupyterLab Notebook, it may mean\n",
       "  that the widgets JavaScript is still loading. If this message persists, it\n",
       "  likely means that the widgets JavaScript library is either not installed or\n",
       "  not enabled. See the <a href=\"https://ipywidgets.readthedocs.io/en/stable/user_install.html\">Jupyter\n",
       "  Widgets Documentation</a> for setup instructions.\n",
       "</p>\n",
       "<p>\n",
       "  If you're reading this message in another frontend (for example, a static\n",
       "  rendering on GitHub or <a href=\"https://nbviewer.jupyter.org/\">NBViewer</a>),\n",
       "  it may mean that your frontend doesn't currently support widgets.\n",
       "</p>\n"
      ],
      "text/plain": [
       "HBox(children=(IntProgress(value=0, max=35), HTML(value='')))"
      ]
     },
     "metadata": {},
     "output_type": "display_data"
    }
   ],
   "source": [
    "dev_c, dev_q = get_cleaned_dataset(dev_set)"
   ]
  },
  {
   "cell_type": "code",
   "execution_count": 23,
   "metadata": {},
   "outputs": [],
   "source": [
    "with open(DATA_PATH + 'devset_context.pickle', 'wb') as handle:\n",
    "    pickle.dump(dev_c, handle, protocol=pickle.HIGHEST_PROTOCOL)\n",
    "    \n",
    "with open(DATA_PATH + 'devset_question.pickle', 'wb') as handle:\n",
    "    pickle.dump(dev_q, handle, protocol=pickle.HIGHEST_PROTOCOL)"
   ]
  }
 ],
 "metadata": {
  "kernelspec": {
   "display_name": "Python 3",
   "language": "python",
   "name": "python3"
  },
  "language_info": {
   "codemirror_mode": {
    "name": "ipython",
    "version": 3
   },
   "file_extension": ".py",
   "mimetype": "text/x-python",
   "name": "python",
   "nbconvert_exporter": "python",
   "pygments_lexer": "ipython3",
   "version": "3.6.4"
  }
 },
 "nbformat": 4,
 "nbformat_minor": 2
}
