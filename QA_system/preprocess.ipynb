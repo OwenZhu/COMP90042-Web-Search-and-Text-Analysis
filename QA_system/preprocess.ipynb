{
 "cells": [
  {
   "cell_type": "code",
   "execution_count": 2,
   "metadata": {},
   "outputs": [],
   "source": [
    "import numpy as np\n",
    "import json\n",
    "import pickle"
   ]
  },
  {
   "cell_type": "code",
   "execution_count": 2,
   "metadata": {},
   "outputs": [
    {
     "name": "stdout",
     "output_type": "stream",
     "text": [
      "Loaded GloVe!\n"
     ]
    }
   ],
   "source": [
    "filename = '/mnt/glove.6B.50d.txt'\n",
    "\n",
    "def loadGloVe(filename):\n",
    "    vocab = dict()\n",
    "    embd = []\n",
    "    file = open(filename,'r')\n",
    "    for index, line in enumerate(file.readlines()):\n",
    "        row = line.strip().split(' ')\n",
    "        vocab[row[0]] = index\n",
    "        embd.append(row[1:])\n",
    "    print('Loaded GloVe!')\n",
    "    file.close()\n",
    "    return vocab,embd\n",
    "\n",
    "vocab, embd = loadGloVe(filename)\n",
    "embedding = np.asarray(embd)"
   ]
  },
  {
   "cell_type": "code",
   "execution_count": 3,
   "metadata": {},
   "outputs": [],
   "source": [
    "np.save(\"word_embedding_matrix\", embedding)"
   ]
  },
  {
   "cell_type": "code",
   "execution_count": 3,
   "metadata": {},
   "outputs": [],
   "source": [
    "with open('vocabulary.pickle', 'wb') as handle:\n",
    "    pickle.dump(vocab, handle, protocol=pickle.HIGHEST_PROTOCOL)"
   ]
  },
  {
   "cell_type": "markdown",
   "metadata": {},
   "source": [
    "Load training set"
   ]
  },
  {
   "cell_type": "code",
   "execution_count": 21,
   "metadata": {},
   "outputs": [],
   "source": [
    "file_name = \"training.json\"\n",
    "with open(file_name) as json_data:\n",
    "    training_set = json.load(json_data)"
   ]
  },
  {
   "cell_type": "code",
   "execution_count": 22,
   "metadata": {},
   "outputs": [],
   "source": [
    "file_name = \"testing.json\"\n",
    "with open(file_name) as json_data:\n",
    "    testing_set = json.load(json_data)"
   ]
  },
  {
   "cell_type": "markdown",
   "metadata": {},
   "source": [
    "Load documents"
   ]
  },
  {
   "cell_type": "code",
   "execution_count": 23,
   "metadata": {},
   "outputs": [],
   "source": [
    "file_name = \"documents.json\"\n",
    "with open(file_name) as json_data:\n",
    "    documents = json.load(json_data)"
   ]
  },
  {
   "cell_type": "markdown",
   "metadata": {},
   "source": [
    "Preprocess the output"
   ]
  },
  {
   "cell_type": "code",
   "execution_count": 19,
   "metadata": {
    "scrolled": true
   },
   "outputs": [],
   "source": [
    "from nltk import word_tokenize\n",
    "from nltk.stem import WordNetLemmatizer\n",
    "\n",
    "\n",
    "def generate_dataset(dataset):\n",
    "    lemmatizer = WordNetLemmatizer()\n",
    "    data_list = []\n",
    "    for index, x in enumerate(dataset):\n",
    "        curr_dct = dict()\n",
    "\n",
    "        q = x[\"question\"].lower()\n",
    "        curr_dct[\"question\"] = [lemmatizer.lemmatize(i) for i in word_tokenize(q)]\n",
    "\n",
    "        ans = x[\"text\"].lower()\n",
    "        tokenized_ans = [lemmatizer.lemmatize(i) for i in word_tokenize(ans)]\n",
    "\n",
    "        docid = x[\"docid\"]\n",
    "        answer_para = x[\"answer_paragraph\"]\n",
    "\n",
    "        c = documents[docid][\"text\"][answer_para].lower()\n",
    "        tokenized_c = [lemmatizer.lemmatize(i) for i in word_tokenize(c)]\n",
    "\n",
    "        curr_dct[\"context\"] = tokenized_c\n",
    "\n",
    "        # find the position that answer occur\n",
    "        for pos, i in enumerate(tokenized_c):\n",
    "            ac_list = zip(tokenized_ans, tokenized_c[pos:])\n",
    "            if False in [True if i in j else False for i, j in ac_list]:\n",
    "                continue\n",
    "            else:\n",
    "                start = [0] * len(tokenized_c)\n",
    "                end = [0] * len(tokenized_c)\n",
    "                start[pos] = 1\n",
    "                end[pos + len(tokenized_ans) - 1] = 1\n",
    "                curr_dct[\"start\"] = start\n",
    "                curr_dct[\"end\"] = end\n",
    "                break\n",
    "\n",
    "        if \"start\" in curr_dct and \"end\" in curr_dct:\n",
    "            data_list.append(curr_dct)\n",
    "        else:\n",
    "            print(\"Cannot match answer:\", index)\n",
    "    \n",
    "    return data_list"
   ]
  },
  {
   "cell_type": "code",
   "execution_count": 25,
   "metadata": {
    "scrolled": true
   },
   "outputs": [
    {
     "name": "stdout",
     "output_type": "stream",
     "text": [
      "Cannot match answer: 452\n",
      "Cannot match answer: 937\n",
      "Cannot match answer: 1582\n",
      "Cannot match answer: 1666\n",
      "Cannot match answer: 7606\n",
      "Cannot match answer: 7947\n",
      "Cannot match answer: 9889\n",
      "Cannot match answer: 9952\n",
      "Cannot match answer: 10124\n",
      "Cannot match answer: 11984\n",
      "Cannot match answer: 12128\n",
      "Cannot match answer: 12357\n",
      "Cannot match answer: 13041\n",
      "Cannot match answer: 13088\n",
      "Cannot match answer: 13928\n",
      "Cannot match answer: 14433\n",
      "Cannot match answer: 14929\n",
      "Cannot match answer: 15535\n",
      "Cannot match answer: 15959\n",
      "Cannot match answer: 16135\n",
      "Cannot match answer: 18772\n",
      "Cannot match answer: 19744\n",
      "Cannot match answer: 19764\n",
      "Cannot match answer: 21408\n",
      "Cannot match answer: 21657\n",
      "Cannot match answer: 22284\n",
      "Cannot match answer: 23610\n",
      "Cannot match answer: 26402\n",
      "Cannot match answer: 28405\n",
      "Cannot match answer: 30647\n",
      "Cannot match answer: 30741\n",
      "Cannot match answer: 32413\n",
      "Cannot match answer: 32442\n",
      "Cannot match answer: 32542\n",
      "Cannot match answer: 32794\n",
      "Cannot match answer: 33658\n",
      "Cannot match answer: 35677\n",
      "Cannot match answer: 36002\n",
      "Cannot match answer: 36573\n",
      "Cannot match answer: 38796\n",
      "Cannot match answer: 39721\n",
      "Cannot match answer: 39776\n",
      "Cannot match answer: 43033\n",
      "Cannot match answer: 43168\n",
      "Cannot match answer: 43305\n"
     ]
    }
   ],
   "source": [
    "training_data = generate_dataset(training_set)"
   ]
  },
  {
   "cell_type": "code",
   "execution_count": 12,
   "metadata": {},
   "outputs": [],
   "source": [
    "with open('training_data.pickle', 'wb') as handle:\n",
    "    pickle.dump(training_data, handle, protocol=pickle.HIGHEST_PROTOCOL)"
   ]
  },
  {
   "cell_type": "code",
   "execution_count": 35,
   "metadata": {
    "scrolled": true
   },
   "outputs": [],
   "source": [
    "lemmatizer = WordNetLemmatizer()\n",
    "testing_data = []\n",
    "for index, x in enumerate(testing_set):\n",
    "    curr_dct = dict()\n",
    "\n",
    "    q = x[\"question\"].lower()\n",
    "    curr_dct[\"question\"] = [lemmatizer.lemmatize(i) for i in word_tokenize(q)]\n",
    "\n",
    "    docid = x[\"docid\"]\n",
    "\n",
    "    c = \"\"\n",
    "    for para in documents[0][\"text\"]:\n",
    "        c += para.lower()\n",
    "\n",
    "    tokenized_c = [lemmatizer.lemmatize(i) for i in word_tokenize(c)]\n",
    "    curr_dct[\"context\"] = tokenized_c\n",
    "    \n",
    "    testing_data.append(curr_dct)"
   ]
  },
  {
   "cell_type": "code",
   "execution_count": 39,
   "metadata": {},
   "outputs": [],
   "source": [
    "with open('testing_data.pickle', 'wb') as handle:\n",
    "    pickle.dump(testing_data, handle, protocol=pickle.HIGHEST_PROTOCOL)"
   ]
  }
 ],
 "metadata": {
  "kernelspec": {
   "display_name": "Python 3",
   "language": "python",
   "name": "python3"
  },
  "language_info": {
   "codemirror_mode": {
    "name": "ipython",
    "version": 3
   },
   "file_extension": ".py",
   "mimetype": "text/x-python",
   "name": "python",
   "nbconvert_exporter": "python",
   "pygments_lexer": "ipython3",
   "version": "3.6.4"
  }
 },
 "nbformat": 4,
 "nbformat_minor": 2
}
