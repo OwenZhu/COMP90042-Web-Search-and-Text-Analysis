{
 "cells": [
  {
   "cell_type": "code",
   "execution_count": 1,
   "metadata": {},
   "outputs": [],
   "source": [
    "import numpy as np\n",
    "import json\n",
    "import pickle"
   ]
  },
  {
   "cell_type": "code",
   "execution_count": 2,
   "metadata": {},
   "outputs": [
    {
     "name": "stdout",
     "output_type": "stream",
     "text": [
      "Loaded GloVe!\n"
     ]
    }
   ],
   "source": [
    "filename = '/mnt/glove.6B.50d.txt'\n",
    "\n",
    "def loadGloVe(filename):\n",
    "    vocab = dict()\n",
    "    embd = []\n",
    "    file = open(filename,'r')\n",
    "    for index, line in enumerate(file.readlines()):\n",
    "        row = line.strip().split(' ')\n",
    "        vocab[index] = row[0]\n",
    "        embd.append(row[1:])\n",
    "    print('Loaded GloVe!')\n",
    "    file.close()\n",
    "    return vocab,embd\n",
    "\n",
    "vocab, embd = loadGloVe(filename)\n",
    "embedding = np.asarray(embd)"
   ]
  },
  {
   "cell_type": "code",
   "execution_count": 3,
   "metadata": {},
   "outputs": [],
   "source": [
    "np.save(\"word_embedding_matrix\", embedding)"
   ]
  },
  {
   "cell_type": "code",
   "execution_count": 4,
   "metadata": {},
   "outputs": [],
   "source": [
    "with open('vocabulary.pickle', 'wb') as handle:\n",
    "    pickle.dump(vocab, handle, protocol=pickle.HIGHEST_PROTOCOL)"
   ]
  },
  {
   "cell_type": "markdown",
   "metadata": {},
   "source": [
    "Load training set"
   ]
  },
  {
   "cell_type": "code",
   "execution_count": 2,
   "metadata": {},
   "outputs": [],
   "source": [
    "file_name = \"training.json\"\n",
    "with open(file_name) as json_data:\n",
    "    training_set = json.load(json_data)"
   ]
  },
  {
   "cell_type": "markdown",
   "metadata": {},
   "source": [
    "Load documents"
   ]
  },
  {
   "cell_type": "code",
   "execution_count": 3,
   "metadata": {},
   "outputs": [],
   "source": [
    "file_name = \"documents.json\"\n",
    "with open(file_name) as json_data:\n",
    "    documents = json.load(json_data)"
   ]
  },
  {
   "cell_type": "markdown",
   "metadata": {},
   "source": [
    "Preprocess the output"
   ]
  },
  {
   "cell_type": "code",
   "execution_count": 4,
   "metadata": {
    "scrolled": true
   },
   "outputs": [],
   "source": [
    "from nltk import word_tokenize\n",
    "from nltk.stem import WordNetLemmatizer\n",
    "\n",
    "lemmatizer = WordNetLemmatizer()\n",
    "training_data = []\n",
    "\n",
    "for i in training_set:\n",
    "    curr_dct = dict()\n",
    "    \n",
    "    q = i[\"question\"].lower()\n",
    "    curr_dct[\"question\"] = [lemmatizer.lemmatize(i) for i in word_tokenize(q)]\n",
    "    \n",
    "    ans = i[\"text\"].lower()\n",
    "    tokenized_ans = [lemmatizer.lemmatize(i) for i in word_tokenize(ans)]\n",
    "    \n",
    "    docid = i[\"docid\"]\n",
    "    answer_para = i[\"answer_paragraph\"]\n",
    "    \n",
    "    c = documents[docid][\"text\"][answer_para].lower()\n",
    "    tokenized_c = [lemmatizer.lemmatize(i) for i in word_tokenize(c)]\n",
    "    \n",
    "    curr_dct[\"context\"] = tokenized_c\n",
    "    \n",
    "    # find the position that answer occur\n",
    "    for pos, i in enumerate(tokenized_c):\n",
    "        ac_list = zip(tokenized_ans, tokenized_c[pos:])\n",
    "        if False in [True if i in j else False for i, j in ac_list]:\n",
    "            continue\n",
    "        else:\n",
    "            start = [0] * len(tokenized_c)\n",
    "            end = [0] * len(tokenized_c)\n",
    "            start[pos] = 1\n",
    "            end[pos + len(tokenized_ans) - 1] = 1\n",
    "            curr_dct[\"start\"] = start\n",
    "            curr_dct[\"end\"] = end\n",
    "            break\n",
    "            \n",
    "    training_data.append(curr_dct)"
   ]
  },
  {
   "cell_type": "code",
   "execution_count": 6,
   "metadata": {},
   "outputs": [],
   "source": [
    "with open('training_data.pickle', 'wb') as handle:\n",
    "    pickle.dump(training_data, handle, protocol=pickle.HIGHEST_PROTOCOL)"
   ]
  }
 ],
 "metadata": {
  "kernelspec": {
   "display_name": "Python 3",
   "language": "python",
   "name": "python3"
  },
  "language_info": {
   "codemirror_mode": {
    "name": "ipython",
    "version": 3
   },
   "file_extension": ".py",
   "mimetype": "text/x-python",
   "name": "python",
   "nbconvert_exporter": "python",
   "pygments_lexer": "ipython3",
   "version": "3.6.4"
  }
 },
 "nbformat": 4,
 "nbformat_minor": 2
}
