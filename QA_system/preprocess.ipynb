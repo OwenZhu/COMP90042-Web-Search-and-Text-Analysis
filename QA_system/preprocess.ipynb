{
 "cells": [
  {
   "cell_type": "markdown",
   "metadata": {},
   "source": [
    "## Import packages"
   ]
  },
  {
   "cell_type": "code",
   "execution_count": null,
   "metadata": {},
   "outputs": [],
   "source": [
    "import numpy as np\n",
    "import json\n",
    "import pickle\n",
    "import nltk\n",
    "from tqdm import tqdm"
   ]
  },
  {
   "cell_type": "markdown",
   "metadata": {},
   "source": [
    "## Load GloVe pre-trained word vectors "
   ]
  },
  {
   "cell_type": "code",
   "execution_count": null,
   "metadata": {},
   "outputs": [],
   "source": [
    "file = '/mnt/glove.6B.100d.txt'\n",
    "\n",
    "def load_GloVe(filename):\n",
    "    vocab = dict()\n",
    "    embd = []\n",
    "    file = open(filename,'r')\n",
    "    for index, line in enumerate(file.readlines()):\n",
    "        row = line.strip().split(' ')\n",
    "        vocab[row[0]] = index\n",
    "        embd.append(row[1:])\n",
    "    file.close()\n",
    "    return vocab,embd\n",
    "\n",
    "vocab, embd = load_GloVe(file)\n",
    "embedding = np.asarray(embd)\n",
    "np.save(\"/mnt/new_word_embedding_matrix\", embedding)\n",
    "\n",
    "with open('vocabulary.pickle', 'wb') as handle:\n",
    "    pickle.dump(vocab, handle, protocol=pickle.HIGHEST_PROTOCOL)"
   ]
  },
  {
   "cell_type": "markdown",
   "metadata": {},
   "source": [
    "## Preprocess training data"
   ]
  },
  {
   "cell_type": "markdown",
   "metadata": {},
   "source": [
    "Load training set"
   ]
  },
  {
   "cell_type": "code",
   "execution_count": null,
   "metadata": {},
   "outputs": [],
   "source": [
    "file_name = \"training.json\"\n",
    "with open(file_name) as json_data:\n",
    "    training_set = json.load(json_data)"
   ]
  },
  {
   "cell_type": "markdown",
   "metadata": {},
   "source": [
    "Load documents"
   ]
  },
  {
   "cell_type": "code",
   "execution_count": null,
   "metadata": {},
   "outputs": [],
   "source": [
    "file_name = \"/mnt/documents.json\"\n",
    "with open(file_name) as json_data:\n",
    "    documents = json.load(json_data)"
   ]
  },
  {
   "cell_type": "markdown",
   "metadata": {},
   "source": [
    "Generate a list of dictionary used for RNN training"
   ]
  },
  {
   "cell_type": "code",
   "execution_count": null,
   "metadata": {
    "scrolled": true
   },
   "outputs": [],
   "source": [
    "from nltk import word_tokenize\n",
    "\n",
    "def sublist(lst1, lst2):\n",
    "    return set(lst1) <= set(lst2)\n",
    "\n",
    "def generate_dataset(dataset):\n",
    "    data_list = []\n",
    "    abandon_count = 0\n",
    "    for index, x in enumerate(dataset):\n",
    "        curr_dct = dict()\n",
    "\n",
    "        q = x[\"question\"].lower()\n",
    "        curr_dct[\"question\"] = word_tokenize(q)\n",
    "\n",
    "        ans = x[\"text\"].lower()\n",
    "        tokenized_ans = word_tokenize(ans)\n",
    "\n",
    "        docid = x[\"docid\"]\n",
    "        answer_para = x[\"answer_paragraph\"]\n",
    "        para = documents[docid][\"text\"][answer_para].lower()\n",
    "        sentences = nltk.sent_tokenize(para)\n",
    "        tokenized_sents = [word_tokenize(sent) for sent in sentences]\n",
    "\n",
    "        context = None\n",
    "        for sent in tokenized_sents:\n",
    "            if sublist(tokenized_ans, sent):\n",
    "                context = sent\n",
    "                break \n",
    "        \n",
    "        if not context:\n",
    "            # print(index, 'cannot find answer!')\n",
    "            abandon_count += 1\n",
    "            continue\n",
    "\n",
    "        curr_dct['context'] = context\n",
    "        # find the position that answer occur\n",
    "        for pos, i in enumerate(context):\n",
    "            ac_list = zip(tokenized_ans, context[pos:])\n",
    "            if False in [True if i in j else False for i, j in ac_list]:\n",
    "                continue\n",
    "            else:\n",
    "                start = [0] * len(context)\n",
    "                end = [0] * len(context)\n",
    "                start[pos] = 1\n",
    "                \n",
    "                end_pos = pos + len(tokenized_ans) - 1\n",
    "                if end_pos > len(context) - 1:\n",
    "                    end_pos = len(context) - 1\n",
    "                end[end_pos] = 1\n",
    "                    \n",
    "                curr_dct[\"start\"] = start\n",
    "                curr_dct[\"end\"] = end\n",
    "                break\n",
    "        \n",
    "        if \"start\" in curr_dct and \"end\" in curr_dct and \"context\" in curr_dct:\n",
    "            data_list.append(curr_dct)\n",
    "        else:\n",
    "            abandon_count += 1\n",
    "            # print(\"Cannot match answer:\", index)\n",
    "    \n",
    "    print('The number of instances which have been removed:', abandon_count)\n",
    "    return data_list"
   ]
  },
  {
   "cell_type": "code",
   "execution_count": null,
   "metadata": {},
   "outputs": [],
   "source": [
    "training_data = generate_dataset(training_set)\n",
    "\n",
    "with open('/mnt/training_data.pickle', 'wb') as handle:\n",
    "    pickle.dump(training_data, handle, protocol=pickle.HIGHEST_PROTOCOL)"
   ]
  },
  {
   "cell_type": "markdown",
   "metadata": {},
   "source": [
    "## Preprocess developing data"
   ]
  },
  {
   "cell_type": "code",
   "execution_count": null,
   "metadata": {},
   "outputs": [],
   "source": [
    "file_name = \"devel.json\"\n",
    "with open(file_name) as json_data:\n",
    "    devel_set = json.load(json_data)"
   ]
  },
  {
   "cell_type": "code",
   "execution_count": null,
   "metadata": {},
   "outputs": [],
   "source": [
    "devel_data = generate_dataset(devel_set)\n",
    "\n",
    "with open('devel_data.pickle', 'wb') as handle:\n",
    "    pickle.dump(devel_data, handle, protocol=pickle.HIGHEST_PROTOCOL)"
   ]
  },
  {
   "cell_type": "markdown",
   "metadata": {},
   "source": [
    "## Tf-idf term weighting"
   ]
  },
  {
   "cell_type": "code",
   "execution_count": null,
   "metadata": {},
   "outputs": [],
   "source": [
    "from sklearn.feature_extraction.text import TfidfVectorizer\n",
    "from nltk.stem import WordNetLemmatizer"
   ]
  },
  {
   "cell_type": "code",
   "execution_count": null,
   "metadata": {
    "scrolled": false
   },
   "outputs": [],
   "source": [
    "file_name = \"testing.json\"\n",
    "with open(file_name) as json_data:\n",
    "    testing_set = json.load(json_data)"
   ]
  },
  {
   "cell_type": "markdown",
   "metadata": {},
   "source": [
    "### Get Top N similar sentences"
   ]
  },
  {
   "cell_type": "code",
   "execution_count": null,
   "metadata": {},
   "outputs": [],
   "source": [
    "from gensim.summarization import bm25\n",
    "\n",
    "def cos_sim(a, b):\n",
    "    dot_product = np.dot(a, b)\n",
    "    norm_a = np.linalg.norm(a)\n",
    "    norm_b = np.linalg.norm(b)\n",
    "    return dot_product / (norm_a * norm_b)"
   ]
  },
  {
   "cell_type": "code",
   "execution_count": null,
   "metadata": {
    "scrolled": true
   },
   "outputs": [],
   "source": [
    "testing_data = []\n",
    "\n",
    "for doc in tqdm(documents[410:]):\n",
    "    \n",
    "    tfidf = TfidfVectorizer(tokenizer=nltk.word_tokenize, lowercase=True)\n",
    "    \n",
    "    raw_text = []\n",
    "    for para in doc['text']:\n",
    "        raw_text.extend(nltk.sent_tokenize(para))\n",
    "\n",
    "    td_mat = tfidf.fit_transform(raw_documents=raw_text)\n",
    "    \n",
    "    bm_model = bm25.BM25([nltk.word_tokenize(doc) for doc in raw_text])\n",
    "    average_idf = sum(map(lambda k: float(bm_model.idf[k]), bm_model.idf.keys())) / len(bm_model.idf.keys())\n",
    "    \n",
    "    for question in testing_set:\n",
    "        if question['docid'] == doc['docid']:\n",
    "            temp_dict = dict()\n",
    "            \n",
    "            query = tfidf.transform([question['question']])\n",
    "            tf_idf_scores = np.dot(query, td_mat.T).toarray()\n",
    "            norm_tf_idf_scores = (tf_idf_scores - np.mean(tf_idf_scores)) / np.std(tf_idf_scores)\n",
    "            \n",
    "            # tfidf_idx = (-doc_rank).argsort()[0][:3]\n",
    "            bm_25_scores = bm_model.get_scores(nltk.word_tokenize(question['question']), average_idf)\n",
    "\n",
    "            norm_bm_25_scores = (bm_25_scores - np.mean(bm_25_scores)) / np.std(bm_25_scores)\n",
    "            \n",
    "            scores = norm_tf_idf_scores + norm_bm_25_scores\n",
    "            idx = np.argmax(scores)\n",
    "            \n",
    "            temp_dict[\"question\"], temp_dict[\"id\"] = question['question'], question[\"id\"]\n",
    "            temp_dict[\"text\"] = \"\"\n",
    "            \n",
    "            temp_dict[\"text\"] += raw_text[idx]\n",
    "            \n",
    "            testing_data.append(temp_dict)"
   ]
  },
  {
   "cell_type": "code",
   "execution_count": null,
   "metadata": {},
   "outputs": [],
   "source": [
    "with open('testing_data.pickle', 'wb') as handle:\n",
    "    pickle.dump(testing_data, handle, protocol=pickle.HIGHEST_PROTOCOL)"
   ]
  }
 ],
 "metadata": {
  "kernelspec": {
   "display_name": "Python 3",
   "language": "python",
   "name": "python3"
  },
  "language_info": {
   "codemirror_mode": {
    "name": "ipython",
    "version": 3
   },
   "file_extension": ".py",
   "mimetype": "text/x-python",
   "name": "python",
   "nbconvert_exporter": "python",
   "pygments_lexer": "ipython3",
   "version": "3.6.4"
  }
 },
 "nbformat": 4,
 "nbformat_minor": 2
}
