{
 "cells": [
  {
   "cell_type": "markdown",
   "metadata": {},
   "source": [
    "# Homework 1: Preprocessing and Text Classification"
   ]
  },
  {
   "cell_type": "markdown",
   "metadata": {},
   "source": [
    "## General info"
   ]
  },
  {
   "cell_type": "markdown",
   "metadata": {},
   "source": [
    "<b>Due date</b>: 11pm, Sunday March 18th\n",
    "\n",
    "<b>Submission method</b>: see LMS\n",
    "\n",
    "<b>Submission materials</b>: completed copy of this iPython notebook\n",
    "\n",
    "<b>Late submissions</b>: -20% per day\n",
    "\n",
    "<b>Marks</b>: 5% of mark for class\n",
    "\n",
    "<b>Overview</b>: In this homework, you'll be using a corpus of tweets to do tokenisation of hashtags and build polarity classifers using bag of word (BOW) features.\n",
    "\n",
    "<b>Materials</b>: See the main class LMS page for information on the basic setup required for this class, including an iPython notebook viewer and the python packages NLTK, Numpy, Scipy, Matplotlib, Scikit-Learn, and Gensim. In particular, if you are not using a lab computer which already has it installed, we recommend installing all the data for NLTK, since you will need various parts of it to complete this assignment. You can also use any Python built-in packages, but do not use any other 3rd party packages (the packages listed above are all fine to use); if your iPython notebook doesn't run on the marker's machine, you will lose marks.  \n",
    "\n",
    "<b>Evaluation</b>: Your iPython notebook should run end-to-end without any errors in a few minutes, and you must follow all instructions provided below, including specific implementation requirements and instructions for what needs to be printed (please avoid printing output we don't ask for). The amount each section is worth is given in parenthesis after the instructions. You will be marked not only on the correctness of your methods, but also the quality and efficency of your code: in particular, you should be careful to use Python built-in functions and operators when appropriate and pick descriptive variable names that adhere to <a href=\"https://www.python.org/dev/peps/pep-0008/\">Python style requirements</a>. If you think it might be unclear what you are doing, you should comment your code to help the marker make sense of it.\n",
    "\n",
    "<b>Extra credit</b>: Each homework has a task which is optional with respect to getting full marks on the assignment, but that can be used to offset any points lost on this or any other homework assignment (but not the final project or the exam). We recommend you skip over this step on your first pass, and come back if you have time: the amount of effort required to receive full marks (1 point) on an extra credit question will be substantially more than earning the same amount of credit on other parts of the homework.\n",
    "\n",
    "<b>Updates</b>: Any major changes to the assignment will be announced via LMS. Minor changes and clarifications will be announced in the forum on LMS, we recommend you check the forum regularly.\n",
    "\n",
    "<b>Academic Misconduct</b>: For most people, collaboration will form a natural part of the undertaking of this homework, and we encourge you to discuss it in general terms with other students. However, this ultimately is still an individual task, and so reuse of code or other instances of clear influence will be considered cheating. We will be checking submissions for originality and will invoke the University’s <a href=\"http://academichonesty.unimelb.edu.au/policy.html\">Academic Misconduct policy</a> where inappropriate levels of collusion or plagiarism are deemed to have taken place.\n"
   ]
  },
  {
   "cell_type": "markdown",
   "metadata": {},
   "source": [
    "## Preprocessing"
   ]
  },
  {
   "cell_type": "markdown",
   "metadata": {
    "collapsed": true
   },
   "source": [
    "<b>Instructions</b>: For this homework we will be using the tweets in the <i>twitter_samples</i> corpus included with NLTK. You should start by accessing these tweets. Use the <i>strings</i> method included in the NLTK corpus reader for <i>twitter_samples</i> to access the tweets (as raw strings). Iterate over the full corpus, and print out the average length, in characters, of the tweets in the corpus. (0.5)\n"
   ]
  },
  {
   "cell_type": "code",
   "execution_count": 1,
   "metadata": {},
   "outputs": [
    {
     "name": "stdout",
     "output_type": "stream",
     "text": [
      "the average length is 103.85176666666666\n"
     ]
    }
   ],
   "source": [
    "import nltk\n",
    "from nltk.corpus import twitter_samples\n",
    "\n",
    "tweets = twitter_samples.strings()\n",
    "lengths = list(map(lambda x: len(x), tweets))\n",
    "print(\"the average length is\", sum(lengths) / float(len(lengths)))"
   ]
  },
  {
   "cell_type": "markdown",
   "metadata": {},
   "source": [
    "<b>Instructions</b>: Hashtags (i.e. topic tags which start with #) pose an interesting tokenisation problem because they often include multiple words written without spaces or capitalization. You should use a regular expression to extract all hashtags of length 8 or longer which consist only of lower case letters (other than the # at the beginning, of course, though this should be stripped off as part of the extraction process). Do <b>not</b> tokenise the entire tweet as part of this process. The hashtag might occur at the beginning or the end of the tweet; you should double-check that you aren't missing any. After you have collected them into a list, print out number of hashtags you have collected: for full credit, you must get the exact number that we expect.  (1.0)"
   ]
  },
  {
   "cell_type": "code",
   "execution_count": 2,
   "metadata": {
    "scrolled": true
   },
   "outputs": [
    {
     "name": "stdout",
     "output_type": "stream",
     "text": [
      "['athabasca', 'jaspernationalpark', 'explorealberta', 'snapchat', 'kikhorny', 'tagsforlikes', 'webcamsex', 'snapchat', 'instagram', 'kiksexting']\n",
      "1238\n"
     ]
    }
   ],
   "source": [
    "import re\n",
    "tweet_hashtags = filter(lambda x : x, \n",
    "                     map(lambda tweet: re.findall(\\\n",
    "                         r'(?:^|\\s)#([a-z]{8,})(?:\\s|$)',\n",
    "                         tweet), tweets))\n",
    "\n",
    "hashtags = [hashtag for tweet in tweet_hashtags for hashtag in tweet]\n",
    "\n",
    "print(hashtags[0:10])\n",
    "print(len(hashtags))"
   ]
  },
  {
   "cell_type": "markdown",
   "metadata": {},
   "source": [
    "<b>Instructions</b>: Now, tokenise the hashtags you've collected. To do this, you should implement a reversed version of the MaxMatch algorithm discussed in class (and in the reading), where matching begins at the end of the hashtag and progresses backwards. NLTK has a list of words that you can use for matching, see starter code below. Be careful about efficiency with respect to doing word lookups. One extra challenge you have to deal with is that the provided list of words includes only lemmas: your MaxMatch algorithm should match inflected forms by converting them into lemmas using the NLTK lemmatiser before matching. Note that the list of words is incomplete, and, if you are unable to make any longer match, your code should default to matching a single letter. Create a new list of tokenised hashtags (this should be a list of lists of strings) and use slicing to print out the last 20 hashtags in the list. (1.0)"
   ]
  },
  {
   "cell_type": "code",
   "execution_count": 3,
   "metadata": {},
   "outputs": [
    {
     "name": "stdout",
     "output_type": "stream",
     "text": [
      "[['scot', 'night'], ['democrats'], ['worrying'], ['falling', 'labour'], ['leaders', 'debate'], ['wow', 'campaign'], ['tory', 'lies'], ['election'], ['bias', 'e', 'd', 'b', 'b', 'c'], ['labour', 'doorstep'], ['bias', 'e', 'd', 'b', 'b', 'c'], ['b', 'b', 'c', 'debate'], ['mil', 'if', 'and', 'om'], ['u', 'k', 'parliament'], ['bedroom', 'tax'], ['canna', 'b', 'is'], ['vote', 'green'], ['l', 'lane', 'l', 'li', 'husting', 's'], ['bedroom', 'tax'], ['bankrupt']]\n"
     ]
    }
   ],
   "source": [
    "words = nltk.corpus.words.words() # words is a Python list\n",
    "words = set(words)\n",
    "\n",
    "from nltk.stem import WordNetLemmatizer\n",
    "\n",
    "def max_match(hashtag, wordlist):\n",
    "    lst = []\n",
    "    for i in range(len(hashtag) - 1, -1, -1):\n",
    "        first_word = hashtag[0:i+1]\n",
    "        remainder = hashtag[i+1:len(hashtag)]\n",
    "        if WordNetLemmatizer().lemmatize(first_word) in wordlist:\n",
    "            lst.append(first_word)\n",
    "            if remainder != '':\n",
    "                lst += max_match(remainder, wordlist)\n",
    "            return lst\n",
    "    \n",
    "    lst += hashtag[0]\n",
    "    return lst\n",
    "\n",
    "print(list(map(lambda x: max_match(x, words), hashtags[-20:])))"
   ]
  },
  {
   "cell_type": "markdown",
   "metadata": {},
   "source": [
    "### Extra Credit (Optional)\n",
    "<b>Instructions</b>: Implement the forward version of the MaxMatch algorithm as well, and print out all the hashtags which give different results for the two versions of MaxMatch. Your main task is to come up with a good way to select which of the two segmentations is better for any given case, and demonstrate that it works significantly better than using a single version of the algorithm for all hashtags. (1.0)"
   ]
  },
  {
   "cell_type": "code",
   "execution_count": 4,
   "metadata": {},
   "outputs": [
    {
     "name": "stdout",
     "output_type": "stream",
     "text": [
      "max match result is: ['scot', 'night']\n",
      "forward version is: ['t', 'scot', 'nigh']\n",
      "the better one is:\n",
      "['scot', 'night']\n",
      "max match result is: ['democrats']\n",
      "forward version is: ['s', 'democrat']\n",
      "the better one is:\n",
      "['democrats']\n",
      "max match result is: ['worrying']\n",
      "forward version is: ['g', 'worry', 'in']\n",
      "the better one is:\n",
      "['worrying']\n",
      "max match result is: ['falling', 'labour']\n",
      "forward version is: ['r', 'falling', 'lab', 'o', 'u']\n",
      "the better one is:\n",
      "['falling', 'labour']\n",
      "max match result is: ['leaders', 'debate']\n",
      "forward version is: ['e', 'leaders', 'deb', 'at']\n",
      "the better one is:\n",
      "['leaders', 'debate']\n",
      "max match result is: ['wow', 'campaign']\n",
      "forward version is: ['n', 'wow', 'camp', 'ai', 'g']\n",
      "the better one is:\n",
      "['wow', 'campaign']\n",
      "max match result is: ['tory', 'lies']\n",
      "forward version is: ['s', 'tory', 'lie']\n",
      "the better one is:\n",
      "['tory', 'lies']\n",
      "max match result is: ['election']\n",
      "forward version is: ['n', 'elect', 'io']\n",
      "the better one is:\n",
      "['election']\n",
      "the better one is:\n",
      "['bias', 'e', 'd', 'b', 'b', 'c']\n",
      "max match result is: ['labour', 'doorstep']\n",
      "forward version is: ['p', 'labour', 'doors', 'te']\n",
      "the better one is:\n",
      "['labour', 'doorstep']\n",
      "the better one is:\n",
      "['bias', 'e', 'd', 'b', 'b', 'c']\n",
      "max match result is: ['b', 'b', 'c', 'debate']\n",
      "forward version is: ['e', 'b', 'b', 'c', 'deb', 'at']\n",
      "the better one is:\n",
      "['b', 'b', 'c', 'debate']\n",
      "max match result is: ['mil', 'if', 'and', 'om']\n",
      "forward version is: ['m', 'mil', 'if', 'and', 'o']\n",
      "the better one is:\n",
      "['mil', 'if', 'and', 'om']\n",
      "max match result is: ['u', 'k', 'parliament']\n",
      "forward version is: ['t', 'u', 'k', 'par', 'li', 'amen']\n",
      "the better one is:\n",
      "['u', 'k', 'parliament']\n",
      "max match result is: ['bedroom', 'tax']\n",
      "forward version is: ['x', 'bedroom', 'ta']\n",
      "the better one is:\n",
      "['bedroom', 'tax']\n",
      "max match result is: ['canna', 'b', 'is']\n",
      "forward version is: ['s', 'canna', 'b', 'i']\n",
      "the better one is:\n",
      "['canna', 'b', 'is']\n",
      "max match result is: ['vote', 'green']\n",
      "forward version is: ['n', 'vote', 'gree']\n",
      "the better one is:\n",
      "['vote', 'green']\n",
      "the better one is:\n",
      "['l', 'lane', 'l', 'li', 'husting', 's']\n",
      "max match result is: ['bedroom', 'tax']\n",
      "forward version is: ['x', 'bedroom', 'ta']\n",
      "the better one is:\n",
      "['bedroom', 'tax']\n",
      "max match result is: ['bankrupt']\n",
      "forward version is: ['t', 'bank', 'r', 'up']\n",
      "the better one is:\n",
      "['bankrupt']\n"
     ]
    }
   ],
   "source": [
    "def max_match_forward(hashtag, wordlist):\n",
    "    lst = []\n",
    "    for i in range(len(hashtag) - 1, -1, -1):\n",
    "        remainder = hashtag[0:i+1]\n",
    "        last_word = hashtag[i+1:len(hashtag)]\n",
    "        if WordNetLemmatizer().lemmatize(last_word) in wordlist:\n",
    "            lst.append(last_word)\n",
    "            if remainder != '':\n",
    "                lst += max_match(remainder, wordlist)\n",
    "            return lst\n",
    "    \n",
    "    lst += hashtag[0]\n",
    "    return lst\n",
    "\n",
    "for hashtag in hashtags[-20:]:\n",
    "    max_match_result = max_match(hashtag, words)\n",
    "    max_match_forward_result = max_match_forward(hashtag, words)\n",
    "    if set(max_match_result) != set(max_match_forward_result):\n",
    "        print(\"max match result is:\", max_match_result)\n",
    "        print(\"forward version is:\", max_match_forward_result)\n",
    "    # select the algorithm that generates less tokens:\n",
    "    print(\"the better one is:\")\n",
    "    if len(max_match_result) <= len(max_match_forward_result):\n",
    "        print(max_match_result)\n",
    "    else:\n",
    "        print(max_match_forward_result)\n"
   ]
  },
  {
   "cell_type": "markdown",
   "metadata": {},
   "source": [
    "## Text classification (Not Optional)"
   ]
  },
  {
   "cell_type": "markdown",
   "metadata": {},
   "source": [
    "<b>Instructions</b>: The twitter_sample corpus has two subcorpora corresponding to positive and negative tweets. You can access already tokenised versions using the <i> tokenized </i> method, as given in the code sample below. Iterate through these two corpora and build training, development, and test sets for use with Scikit-learn. You should exclude stopwords (from the built-in NLTK list) and tokens with non-alphabetic characters (this is very important you do this because emoticons were used to build the corpus, if you don't remove them performance will be artificially high). You should randomly split each subcorpus, using 80% of the tweets for training, 10% for development, and 10% for testing; make sure you do this <b>before</b> combining the tweets from the positive/negative subcorpora, so that the sets are <i>stratified</i>, i.e. the exact ratio of positive and negative tweets is preserved across the three sets. (1.0)"
   ]
  },
  {
   "cell_type": "code",
   "execution_count": 5,
   "metadata": {
    "collapsed": true
   },
   "outputs": [],
   "source": [
    "from sklearn.model_selection import train_test_split\n",
    "from sklearn.feature_extraction import DictVectorizer\n",
    "\n",
    "def exclude_stopwords(tweets, stop_words):\n",
    "    tokenized_tweets = []\n",
    "    \n",
    "    for tweet in tweets:\n",
    "        tokenized_tweet = []\n",
    "        \n",
    "        for token in tweet:\n",
    "            token = token.lower()\n",
    "            if not token in stop_words and not re.search(r'[^a-z]', token):\n",
    "                tokenized_tweet.append(token)\n",
    "        \n",
    "        tokenized_tweets.append(tokenized_tweet)\n",
    "        \n",
    "    return tokenized_tweets\n",
    "\n",
    "def split_dataset(X, y, test_size):\n",
    "    return train_test_split(X, y, test_size=test_size, random_state=0)\n",
    "\n",
    "def get_BOW(text):\n",
    "    BOW = {}\n",
    "    for word in text:\n",
    "        BOW[word] = BOW.get(word,0) + 1\n",
    "    return BOW\n",
    "\n",
    "def prepare_data(tweets, classifications):\n",
    "    feature_matrix = []\n",
    "    for tweet in tweets:\n",
    "        feature_dict = get_BOW(tweet)   \n",
    "        feature_matrix.append(feature_dict)\n",
    "    \n",
    "    train_X, test_X, train_y, test_y = split_dataset(feature_matrix, \n",
    "                                                     classifications, \n",
    "                                                     0.2)\n",
    "    \n",
    "    test_X, dev_X, test_y, dev_y = split_dataset(test_X, test_y, 0.5)\n",
    "    \n",
    "    vectorizer = DictVectorizer()\n",
    "    train_X = vectorizer.fit_transform(train_X)\n",
    "    test_X = vectorizer.transform(test_X)\n",
    "    dev_X = vectorizer.transform(dev_X)\n",
    "    \n",
    "    return train_X, train_y, test_X, test_y, dev_X, dev_y"
   ]
  },
  {
   "cell_type": "code",
   "execution_count": 6,
   "metadata": {
    "collapsed": true
   },
   "outputs": [],
   "source": [
    "positive_tweets = nltk.corpus.twitter_samples.tokenized(\"positive_tweets.json\")\n",
    "negative_tweets = nltk.corpus.twitter_samples.tokenized(\"negative_tweets.json\")\n",
    "\n",
    "\n",
    "from nltk.corpus import stopwords\n",
    "import numpy as np\n",
    "\n",
    "stop_words = set(stopwords.words('english'))\n",
    "\n",
    "positive_targets = [1 for i in range(len(positive_tweets))]\n",
    "negative_targets = [0 for i in range(len(negative_tweets))]\n",
    "targets = np.asarray(positive_targets + negative_targets)\n",
    "\n",
    "\n",
    "positive_tweets = exclude_stopwords(positive_tweets, stop_words)\n",
    "negative_tweets = exclude_stopwords(negative_tweets, stop_words)\n",
    "\n",
    "train_X, train_y, test_X, test_y, dev_X, dev_y = \\\n",
    "    prepare_data(positive_tweets + negative_tweets, targets)"
   ]
  },
  {
   "cell_type": "markdown",
   "metadata": {},
   "source": [
    "<b>Instructions</b>: Now, let's build some classifiers. Here, we'll be comparing Naive Bayes and Logistic Regression. For each, you need to first find a good value for their main regularisation (hyper)parameters, which you should identify using the scikit-learn docs or other resources. Use the development set you created for this tuning process; do <b>not</b> use crossvalidation in the training set, or involve the test set in any way. You don't need to show all your work, but you do need to print out the accuracy with enough different settings to strongly suggest you have found an optimal or near-optimal choice. We should not need to look at your code to interpret the output. (1.0)"
   ]
  },
  {
   "cell_type": "code",
   "execution_count": 13,
   "metadata": {},
   "outputs": [
    {
     "name": "stdout",
     "output_type": "stream",
     "text": [
      "mnb fbeta scores [0.73150796894156112, 0.73355128729055985, 0.73355128729055985, 0.73595735957359576, 0.73679901760130984]\n",
      "lr fbeta scores: [0.32751091703056762, 0.72962728995578019, 0.758948799275034, 0.70764681030840726, 0.69217900460058557, 0.75187969924812026, 0.75497915701713758, 0.74989163415691373, 0.72488342518016102, 0.70472605604349647]\n"
     ]
    },
    {
     "data": {
      "image/png": "[encoded data removed]",
      "text/plain": [
       "<matplotlib.figure.Figure at 0x1a1b771208>"
      ]
     },
     "metadata": {},
     "output_type": "display_data"
    }
   ],
   "source": [
    "from sklearn.naive_bayes import MultinomialNB\n",
    "from sklearn.linear_model import LogisticRegression\n",
    "from sklearn.metrics import fbeta_score\n",
    "\n",
    "mnb_fbeta_scores = []\n",
    "\n",
    "for alpha in np.arange(0.2, 1.2, 0.2):\n",
    "    mnb = MultinomialNB(alpha=alpha)\n",
    "    mnb.fit(train_X, train_y)\n",
    "    predictions = mnb.predict(dev_X)\n",
    "    mnb_fbeta_scores.append(fbeta_score(dev_y, predictions, beta=0.5))\n",
    "    \n",
    "print(\"mnb fbeta scores\", mnb_fbeta_scores)\n",
    "    \n",
    "lr_fbeta_scores = []\n",
    "\n",
    "for penalty in ['l1', 'l2']:\n",
    "    for C in [0.01, 0.1, 1.00, 10.0, 100.00]:\n",
    "        lr = LogisticRegression(C=C, penalty=penalty)\n",
    "        lr.fit(train_X, train_y)\n",
    "        predictions = lr.predict(dev_X)\n",
    "        lr_fbeta_scores.append(fbeta_score(dev_y, predictions, beta=0.5))\n",
    "\n",
    "print(\"lr fbeta scores:\", lr_fbeta_scores)\n",
    "        \n",
    "import matplotlib.pyplot as plt\n",
    "\n",
    "plt.subplot(2, 1, 1)\n",
    "plt.plot(np.arange(0.2, 1.2, 0.2), mnb_fbeta_scores)\n",
    "plt.title('Multinomial Naive Bayes Performance', fontsize=15)\n",
    "plt.xlabel(r'$\\alpha$')\n",
    "plt.ylabel('fbeta score')\n",
    "\n",
    "plt.subplot(2, 1, 2)\n",
    "lr_fbeta_scores = np.asarray(lr_fbeta_scores)\n",
    "lr_fbeta_scores = lr_fbeta_scores.reshape((2,5))\n",
    "plt.yticks(range(2),['l1', 'l2'])\n",
    "plt.xticks(range(5),[0.01, 0.1, 1.00, 10.0, 100.00])\n",
    "plt.imshow(lr_fbeta_scores)\n",
    "plt.xlabel('C')\n",
    "plt.title('Logistic Regression Performance', fontsize=15)\n",
    "plt.ylabel('penalty')\n",
    "plt.colorbar()\n",
    "\n",
    "plt.tight_layout()\n",
    "plt.show()"
   ]
  },
  {
   "cell_type": "markdown",
   "metadata": {},
   "source": [
    "<b>Instructions</b>: Using the best settings you have found, compare the two classifiers based on performance in the test set. Print out both accuracy and macroaveraged f-score for each classifier. Be sure to label your output. (0.5)"
   ]
  },
  {
   "cell_type": "code",
   "execution_count": 8,
   "metadata": {
    "collapsed": true
   },
   "outputs": [],
   "source": [
    "from sklearn.metrics import accuracy_score, classification_report\n",
    "\n",
    "\n",
    "def check_results(predictions, classifications):\n",
    "    print(\"accuracy\")\n",
    "    print(accuracy_score(classifications,predictions))\n",
    "    print(classification_report(classifications,predictions))"
   ]
  },
  {
   "cell_type": "code",
   "execution_count": 9,
   "metadata": {},
   "outputs": [
    {
     "name": "stdout",
     "output_type": "stream",
     "text": [
      "optimal Multinomial Naive Bayes performance:\n",
      "accuracy\n",
      "0.766\n",
      "             precision    recall  f1-score   support\n",
      "\n",
      "          0       0.76      0.77      0.76       491\n",
      "          1       0.77      0.76      0.77       509\n",
      "\n",
      "avg / total       0.77      0.77      0.77      1000\n",
      "\n",
      "----------------------------------\n",
      "optimal Logistic Regression performance:\n",
      "accuracy\n",
      "0.739\n",
      "             precision    recall  f1-score   support\n",
      "\n",
      "          0       0.71      0.78      0.75       491\n",
      "          1       0.77      0.70      0.73       509\n",
      "\n",
      "avg / total       0.74      0.74      0.74      1000\n",
      "\n"
     ]
    }
   ],
   "source": [
    "print(\"optimal Multinomial Naive Bayes performance:\")\n",
    "mnb = MultinomialNB(alpha=1.0)\n",
    "mnb.fit(train_X, train_y)\n",
    "predictions = mnb.predict(test_X)\n",
    "check_results(predictions, test_y)\n",
    "print(\"----------------------------------\")\n",
    "print(\"optimal Logistic Regression performance:\")\n",
    "lr = LogisticRegression(C=1.0, penalty='l1')\n",
    "lr.fit(train_X, train_y)\n",
    "predictions = lr.predict(test_X)\n",
    "check_results(predictions, test_y)"
   ]
  }
 ],
 "metadata": {
  "anaconda-cloud": {},
  "kernelspec": {
   "display_name": "Python 3",
   "language": "python",
   "name": "python3"
  },
  "language_info": {
   "codemirror_mode": {
    "name": "ipython",
    "version": 3
   },
   "file_extension": ".py",
   "mimetype": "text/x-python",
   "name": "python",
   "nbconvert_exporter": "python",
   "pygments_lexer": "ipython3",
   "version": "3.6.3"
  }
 },
 "nbformat": 4,
 "nbformat_minor": 1
}
